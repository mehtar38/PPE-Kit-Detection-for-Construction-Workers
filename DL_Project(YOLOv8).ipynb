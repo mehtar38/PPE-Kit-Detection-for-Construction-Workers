{
  "cells": [
    {
      "cell_type": "markdown",
      "id": "400ae761",
      "metadata": {
        "papermill": {
          "duration": 0.012866,
          "end_time": "2023-08-29T14:25:49.585831",
          "exception": false,
          "start_time": "2023-08-29T14:25:49.572965",
          "status": "completed"
        },
        "tags": [],
        "id": "400ae761"
      },
      "source": [
        "<h1 style=\"padding: 25px 25px; background-color: #F5B041; font-family: Sans-Serif; color:black; text-align: center\">\n",
        "DL Project: Personal Protective Equipment Detection for Construction Workers</h1>\n",
        "\n",
        "B041, Niyati Mehta\n",
        "\n",
        "B042, Rutvi Mehta\n",
        "\n",
        "B057, Vinay Purohit"
      ]
    },
    {
      "cell_type": "markdown",
      "id": "c09cf5fd",
      "metadata": {
        "papermill": {
          "duration": 0.011392,
          "end_time": "2023-08-29T14:25:49.701829",
          "exception": false,
          "start_time": "2023-08-29T14:25:49.690437",
          "status": "completed"
        },
        "tags": [],
        "id": "c09cf5fd"
      },
      "source": [
        "<a id=\"data-description\"></a>\n",
        "<h2 style=\"padding: 12px 12px; background-color: #F5B041; font-family: Sans-Serif; color:black\">\n",
        "Data description</h2>"
      ]
    },
    {
      "cell_type": "markdown",
      "id": "6c12df1f",
      "metadata": {
        "papermill": {
          "duration": 0.011821,
          "end_time": "2023-08-29T14:25:49.725144",
          "exception": false,
          "start_time": "2023-08-29T14:25:49.713323",
          "status": "completed"
        },
        "tags": [],
        "id": "6c12df1f"
      },
      "source": [
        "- The dataset is taken from Kaggle.com:\n",
        "https://www.kaggle.com/datasets/snehilsanyal/construction-site-safety-image-dataset-roboflow\n",
        "\n",
        "\n",
        "- The dataset is a great collection of images, since the labels are in the following format: 'Hardhat', 'Mask', 'NO-Hardhat', 'NO-Mask', 'NO-Safety Vest', 'Person', 'Safety Cone', 'Safety Vest', 'machinery', 'vehicle'\n",
        "\n",
        "    - Number of classes: 10\n",
        "    - Label Annotation: YOLO format (.txt)\n",
        "    - Metadata: metadata.csv and count.csv provides information about the dataset and train-val-test count information.\n",
        "\n",
        "\n"
      ]
    },
    {
      "cell_type": "markdown",
      "id": "969b0f76",
      "metadata": {
        "papermill": {
          "duration": 0.011409,
          "end_time": "2023-08-29T14:25:49.748275",
          "exception": false,
          "start_time": "2023-08-29T14:25:49.736866",
          "status": "completed"
        },
        "tags": [],
        "id": "969b0f76"
      },
      "source": [
        "<a id=\"import-modules\"></a>\n",
        "<h2 style=\"padding: 12px 12px; background-color: #F5B041; font-family: Sans-Serif; color:black\">\n",
        "Import modules</h2>"
      ]
    },
    {
      "cell_type": "code",
      "execution_count": null,
      "id": "ec8269d2",
      "metadata": {
        "execution": {
          "iopub.execute_input": "2023-08-29T14:25:49.774092Z",
          "iopub.status.busy": "2023-08-29T14:25:49.772874Z",
          "iopub.status.idle": "2023-08-29T14:26:07.537299Z",
          "shell.execute_reply": "2023-08-29T14:26:07.535677Z"
        },
        "papermill": {
          "duration": 17.781632,
          "end_time": "2023-08-29T14:26:07.541323",
          "exception": false,
          "start_time": "2023-08-29T14:25:49.759691",
          "status": "completed"
        },
        "tags": [],
        "colab": {
          "base_uri": "https://localhost:8080/"
        },
        "id": "ec8269d2",
        "outputId": "fca5994a-7afa-4e18-f063-26baec8b72d7"
      },
      "outputs": [
        {
          "output_type": "stream",
          "name": "stdout",
          "text": [
            "Collecting ultralytics\n",
            "  Downloading ultralytics-8.3.9-py3-none-any.whl.metadata (34 kB)\n",
            "Requirement already satisfied: numpy>=1.23.0 in /usr/local/lib/python3.10/dist-packages (from ultralytics) (1.26.4)\n",
            "Requirement already satisfied: matplotlib>=3.3.0 in /usr/local/lib/python3.10/dist-packages (from ultralytics) (3.7.1)\n",
            "Requirement already satisfied: opencv-python>=4.6.0 in /usr/local/lib/python3.10/dist-packages (from ultralytics) (4.10.0.84)\n",
            "Requirement already satisfied: pillow>=7.1.2 in /usr/local/lib/python3.10/dist-packages (from ultralytics) (10.4.0)\n",
            "Requirement already satisfied: pyyaml>=5.3.1 in /usr/local/lib/python3.10/dist-packages (from ultralytics) (6.0.2)\n",
            "Requirement already satisfied: requests>=2.23.0 in /usr/local/lib/python3.10/dist-packages (from ultralytics) (2.32.3)\n",
            "Requirement already satisfied: scipy>=1.4.1 in /usr/local/lib/python3.10/dist-packages (from ultralytics) (1.13.1)\n",
            "Requirement already satisfied: torch>=1.8.0 in /usr/local/lib/python3.10/dist-packages (from ultralytics) (2.4.1+cu121)\n",
            "Requirement already satisfied: torchvision>=0.9.0 in /usr/local/lib/python3.10/dist-packages (from ultralytics) (0.19.1+cu121)\n",
            "Requirement already satisfied: tqdm>=4.64.0 in /usr/local/lib/python3.10/dist-packages (from ultralytics) (4.66.5)\n",
            "Requirement already satisfied: psutil in /usr/local/lib/python3.10/dist-packages (from ultralytics) (5.9.5)\n",
            "Requirement already satisfied: py-cpuinfo in /usr/local/lib/python3.10/dist-packages (from ultralytics) (9.0.0)\n",
            "Requirement already satisfied: pandas>=1.1.4 in /usr/local/lib/python3.10/dist-packages (from ultralytics) (2.2.2)\n",
            "Requirement already satisfied: seaborn>=0.11.0 in /usr/local/lib/python3.10/dist-packages (from ultralytics) (0.13.2)\n",
            "Collecting ultralytics-thop>=2.0.0 (from ultralytics)\n",
            "  Downloading ultralytics_thop-2.0.9-py3-none-any.whl.metadata (9.3 kB)\n",
            "Requirement already satisfied: contourpy>=1.0.1 in /usr/local/lib/python3.10/dist-packages (from matplotlib>=3.3.0->ultralytics) (1.3.0)\n",
            "Requirement already satisfied: cycler>=0.10 in /usr/local/lib/python3.10/dist-packages (from matplotlib>=3.3.0->ultralytics) (0.12.1)\n",
            "Requirement already satisfied: fonttools>=4.22.0 in /usr/local/lib/python3.10/dist-packages (from matplotlib>=3.3.0->ultralytics) (4.54.1)\n",
            "Requirement already satisfied: kiwisolver>=1.0.1 in /usr/local/lib/python3.10/dist-packages (from matplotlib>=3.3.0->ultralytics) (1.4.7)\n",
            "Requirement already satisfied: packaging>=20.0 in /usr/local/lib/python3.10/dist-packages (from matplotlib>=3.3.0->ultralytics) (24.1)\n",
            "Requirement already satisfied: pyparsing>=2.3.1 in /usr/local/lib/python3.10/dist-packages (from matplotlib>=3.3.0->ultralytics) (3.1.4)\n",
            "Requirement already satisfied: python-dateutil>=2.7 in /usr/local/lib/python3.10/dist-packages (from matplotlib>=3.3.0->ultralytics) (2.8.2)\n",
            "Requirement already satisfied: pytz>=2020.1 in /usr/local/lib/python3.10/dist-packages (from pandas>=1.1.4->ultralytics) (2024.2)\n",
            "Requirement already satisfied: tzdata>=2022.7 in /usr/local/lib/python3.10/dist-packages (from pandas>=1.1.4->ultralytics) (2024.2)\n",
            "Requirement already satisfied: charset-normalizer<4,>=2 in /usr/local/lib/python3.10/dist-packages (from requests>=2.23.0->ultralytics) (3.3.2)\n",
            "Requirement already satisfied: idna<4,>=2.5 in /usr/local/lib/python3.10/dist-packages (from requests>=2.23.0->ultralytics) (3.10)\n",
            "Requirement already satisfied: urllib3<3,>=1.21.1 in /usr/local/lib/python3.10/dist-packages (from requests>=2.23.0->ultralytics) (2.2.3)\n",
            "Requirement already satisfied: certifi>=2017.4.17 in /usr/local/lib/python3.10/dist-packages (from requests>=2.23.0->ultralytics) (2024.8.30)\n",
            "Requirement already satisfied: filelock in /usr/local/lib/python3.10/dist-packages (from torch>=1.8.0->ultralytics) (3.16.1)\n",
            "Requirement already satisfied: typing-extensions>=4.8.0 in /usr/local/lib/python3.10/dist-packages (from torch>=1.8.0->ultralytics) (4.12.2)\n",
            "Requirement already satisfied: sympy in /usr/local/lib/python3.10/dist-packages (from torch>=1.8.0->ultralytics) (1.13.3)\n",
            "Requirement already satisfied: networkx in /usr/local/lib/python3.10/dist-packages (from torch>=1.8.0->ultralytics) (3.3)\n",
            "Requirement already satisfied: jinja2 in /usr/local/lib/python3.10/dist-packages (from torch>=1.8.0->ultralytics) (3.1.4)\n",
            "Requirement already satisfied: fsspec in /usr/local/lib/python3.10/dist-packages (from torch>=1.8.0->ultralytics) (2024.6.1)\n",
            "Requirement already satisfied: six>=1.5 in /usr/local/lib/python3.10/dist-packages (from python-dateutil>=2.7->matplotlib>=3.3.0->ultralytics) (1.16.0)\n",
            "Requirement already satisfied: MarkupSafe>=2.0 in /usr/local/lib/python3.10/dist-packages (from jinja2->torch>=1.8.0->ultralytics) (2.1.5)\n",
            "Requirement already satisfied: mpmath<1.4,>=1.1.0 in /usr/local/lib/python3.10/dist-packages (from sympy->torch>=1.8.0->ultralytics) (1.3.0)\n",
            "Downloading ultralytics-8.3.9-py3-none-any.whl (882 kB)\n",
            "\u001b[2K   \u001b[90m━━━━━━━━━━━━━━━━━━━━━━━━━━━━━━━━━━━━━━━━\u001b[0m \u001b[32m882.2/882.2 kB\u001b[0m \u001b[31m50.2 MB/s\u001b[0m eta \u001b[36m0:00:00\u001b[0m\n",
            "\u001b[?25hDownloading ultralytics_thop-2.0.9-py3-none-any.whl (26 kB)\n",
            "Installing collected packages: ultralytics-thop, ultralytics\n",
            "Successfully installed ultralytics-8.3.9 ultralytics-thop-2.0.9\n"
          ]
        }
      ],
      "source": [
        "!pip install ultralytics"
      ]
    },
    {
      "cell_type": "code",
      "execution_count": null,
      "id": "4b0cb844",
      "metadata": {
        "execution": {
          "iopub.execute_input": "2023-08-29T14:26:07.574043Z",
          "iopub.status.busy": "2023-08-29T14:26:07.573709Z",
          "iopub.status.idle": "2023-08-29T14:26:11.939411Z",
          "shell.execute_reply": "2023-08-29T14:26:11.938118Z"
        },
        "papermill": {
          "duration": 4.38457,
          "end_time": "2023-08-29T14:26:11.942172",
          "exception": false,
          "start_time": "2023-08-29T14:26:07.557602",
          "status": "completed"
        },
        "tags": [],
        "id": "4b0cb844",
        "colab": {
          "base_uri": "https://localhost:8080/"
        },
        "outputId": "8389acd1-5a42-4c48-ffd3-eabf7e72f7f6"
      },
      "outputs": [
        {
          "output_type": "stream",
          "name": "stdout",
          "text": [
            "Creating new Ultralytics Settings v0.0.6 file ✅ \n",
            "View Ultralytics Settings with 'yolo settings' or at '/root/.config/Ultralytics/settings.json'\n",
            "Update Settings with 'yolo settings key=value', i.e. 'yolo settings runs_dir=path/to/dir'. For help see https://docs.ultralytics.com/quickstart/#ultralytics-settings.\n"
          ]
        }
      ],
      "source": [
        "import numpy as np\n",
        "import pandas as pd\n",
        "import warnings\n",
        "import matplotlib.pyplot as plt\n",
        "from IPython.core.magic import register_line_cell_magic\n",
        "import yaml\n",
        "from PIL import Image\n",
        "import os\n",
        "import seaborn as sns\n",
        "from ultralytics import YOLO\n",
        "from matplotlib.patches import Rectangle\n",
        "import glob\n",
        "import cv2\n"
      ]
    },
    {
      "cell_type": "markdown",
      "id": "928fde0a",
      "metadata": {
        "papermill": {
          "duration": 0.014741,
          "end_time": "2023-08-29T14:26:11.971900",
          "exception": false,
          "start_time": "2023-08-29T14:26:11.957159",
          "status": "completed"
        },
        "tags": [],
        "id": "928fde0a"
      },
      "source": [
        "<a id=\"configuration\"></a>\n",
        "<h2 style=\"padding: 12px 12px; background-color: #F5B041; font-family: Sans-Serif; color:black\">\n",
        "Configuration</h2>"
      ]
    },
    {
      "cell_type": "code",
      "execution_count": null,
      "id": "df01a4c1",
      "metadata": {
        "execution": {
          "iopub.execute_input": "2023-08-29T14:26:12.003404Z",
          "iopub.status.busy": "2023-08-29T14:26:12.002644Z",
          "iopub.status.idle": "2023-08-29T14:26:14.759330Z",
          "shell.execute_reply": "2023-08-29T14:26:14.758002Z"
        },
        "papermill": {
          "duration": 2.775512,
          "end_time": "2023-08-29T14:26:14.762143",
          "exception": false,
          "start_time": "2023-08-29T14:26:11.986631",
          "status": "completed"
        },
        "tags": [],
        "colab": {
          "base_uri": "https://localhost:8080/"
        },
        "id": "df01a4c1",
        "outputId": "509a43f3-ae94-4d3c-ae89-543fae57dbed"
      },
      "outputs": [
        {
          "output_type": "stream",
          "name": "stdout",
          "text": [
            "/bin/bash: line 1: wandb: command not found\n"
          ]
        }
      ],
      "source": [
        "warnings.filterwarnings(\"ignore\")\n",
        "\n",
        "np.random.seed(12345)\n",
        "\n",
        "%matplotlib inline\n",
        "\n",
        "!wandb disabled"
      ]
    },
    {
      "cell_type": "code",
      "source": [
        "from google.colab import drive\n",
        "drive.mount('/content/drive')"
      ],
      "metadata": {
        "colab": {
          "base_uri": "https://localhost:8080/",
          "height": 315
        },
        "id": "ya-JtpmHdZ71",
        "outputId": "e0e528b4-c8a6-4df5-f8a3-8a04cccac67f"
      },
      "id": "ya-JtpmHdZ71",
      "execution_count": null,
      "outputs": [
        {
          "output_type": "error",
          "ename": "MessageError",
          "evalue": "Error: credential propagation was unsuccessful",
          "traceback": [
            "\u001b[0;31m---------------------------------------------------------------------------\u001b[0m",
            "\u001b[0;31mMessageError\u001b[0m                              Traceback (most recent call last)",
            "\u001b[0;32m<ipython-input-4-d5df0069828e>\u001b[0m in \u001b[0;36m<cell line: 2>\u001b[0;34m()\u001b[0m\n\u001b[1;32m      1\u001b[0m \u001b[0;32mfrom\u001b[0m \u001b[0mgoogle\u001b[0m\u001b[0;34m.\u001b[0m\u001b[0mcolab\u001b[0m \u001b[0;32mimport\u001b[0m \u001b[0mdrive\u001b[0m\u001b[0;34m\u001b[0m\u001b[0;34m\u001b[0m\u001b[0m\n\u001b[0;32m----> 2\u001b[0;31m \u001b[0mdrive\u001b[0m\u001b[0;34m.\u001b[0m\u001b[0mmount\u001b[0m\u001b[0;34m(\u001b[0m\u001b[0;34m'/content/drive'\u001b[0m\u001b[0;34m)\u001b[0m\u001b[0;34m\u001b[0m\u001b[0;34m\u001b[0m\u001b[0m\n\u001b[0m",
            "\u001b[0;32m/usr/local/lib/python3.10/dist-packages/google/colab/drive.py\u001b[0m in \u001b[0;36mmount\u001b[0;34m(mountpoint, force_remount, timeout_ms, readonly)\u001b[0m\n\u001b[1;32m     98\u001b[0m \u001b[0;32mdef\u001b[0m \u001b[0mmount\u001b[0m\u001b[0;34m(\u001b[0m\u001b[0mmountpoint\u001b[0m\u001b[0;34m,\u001b[0m \u001b[0mforce_remount\u001b[0m\u001b[0;34m=\u001b[0m\u001b[0;32mFalse\u001b[0m\u001b[0;34m,\u001b[0m \u001b[0mtimeout_ms\u001b[0m\u001b[0;34m=\u001b[0m\u001b[0;36m120000\u001b[0m\u001b[0;34m,\u001b[0m \u001b[0mreadonly\u001b[0m\u001b[0;34m=\u001b[0m\u001b[0;32mFalse\u001b[0m\u001b[0;34m)\u001b[0m\u001b[0;34m:\u001b[0m\u001b[0;34m\u001b[0m\u001b[0;34m\u001b[0m\u001b[0m\n\u001b[1;32m     99\u001b[0m   \u001b[0;34m\"\"\"Mount your Google Drive at the specified mountpoint path.\"\"\"\u001b[0m\u001b[0;34m\u001b[0m\u001b[0;34m\u001b[0m\u001b[0m\n\u001b[0;32m--> 100\u001b[0;31m   return _mount(\n\u001b[0m\u001b[1;32m    101\u001b[0m       \u001b[0mmountpoint\u001b[0m\u001b[0;34m,\u001b[0m\u001b[0;34m\u001b[0m\u001b[0;34m\u001b[0m\u001b[0m\n\u001b[1;32m    102\u001b[0m       \u001b[0mforce_remount\u001b[0m\u001b[0;34m=\u001b[0m\u001b[0mforce_remount\u001b[0m\u001b[0;34m,\u001b[0m\u001b[0;34m\u001b[0m\u001b[0;34m\u001b[0m\u001b[0m\n",
            "\u001b[0;32m/usr/local/lib/python3.10/dist-packages/google/colab/drive.py\u001b[0m in \u001b[0;36m_mount\u001b[0;34m(mountpoint, force_remount, timeout_ms, ephemeral, readonly)\u001b[0m\n\u001b[1;32m    135\u001b[0m   )\n\u001b[1;32m    136\u001b[0m   \u001b[0;32mif\u001b[0m \u001b[0mephemeral\u001b[0m\u001b[0;34m:\u001b[0m\u001b[0;34m\u001b[0m\u001b[0;34m\u001b[0m\u001b[0m\n\u001b[0;32m--> 137\u001b[0;31m     _message.blocking_request(\n\u001b[0m\u001b[1;32m    138\u001b[0m         \u001b[0;34m'request_auth'\u001b[0m\u001b[0;34m,\u001b[0m\u001b[0;34m\u001b[0m\u001b[0;34m\u001b[0m\u001b[0m\n\u001b[1;32m    139\u001b[0m         \u001b[0mrequest\u001b[0m\u001b[0;34m=\u001b[0m\u001b[0;34m{\u001b[0m\u001b[0;34m'authType'\u001b[0m\u001b[0;34m:\u001b[0m \u001b[0;34m'dfs_ephemeral'\u001b[0m\u001b[0;34m}\u001b[0m\u001b[0;34m,\u001b[0m\u001b[0;34m\u001b[0m\u001b[0;34m\u001b[0m\u001b[0m\n",
            "\u001b[0;32m/usr/local/lib/python3.10/dist-packages/google/colab/_message.py\u001b[0m in \u001b[0;36mblocking_request\u001b[0;34m(request_type, request, timeout_sec, parent)\u001b[0m\n\u001b[1;32m    174\u001b[0m       \u001b[0mrequest_type\u001b[0m\u001b[0;34m,\u001b[0m \u001b[0mrequest\u001b[0m\u001b[0;34m,\u001b[0m \u001b[0mparent\u001b[0m\u001b[0;34m=\u001b[0m\u001b[0mparent\u001b[0m\u001b[0;34m,\u001b[0m \u001b[0mexpect_reply\u001b[0m\u001b[0;34m=\u001b[0m\u001b[0;32mTrue\u001b[0m\u001b[0;34m\u001b[0m\u001b[0;34m\u001b[0m\u001b[0m\n\u001b[1;32m    175\u001b[0m   )\n\u001b[0;32m--> 176\u001b[0;31m   \u001b[0;32mreturn\u001b[0m \u001b[0mread_reply_from_input\u001b[0m\u001b[0;34m(\u001b[0m\u001b[0mrequest_id\u001b[0m\u001b[0;34m,\u001b[0m \u001b[0mtimeout_sec\u001b[0m\u001b[0;34m)\u001b[0m\u001b[0;34m\u001b[0m\u001b[0;34m\u001b[0m\u001b[0m\n\u001b[0m",
            "\u001b[0;32m/usr/local/lib/python3.10/dist-packages/google/colab/_message.py\u001b[0m in \u001b[0;36mread_reply_from_input\u001b[0;34m(message_id, timeout_sec)\u001b[0m\n\u001b[1;32m    101\u001b[0m     ):\n\u001b[1;32m    102\u001b[0m       \u001b[0;32mif\u001b[0m \u001b[0;34m'error'\u001b[0m \u001b[0;32min\u001b[0m \u001b[0mreply\u001b[0m\u001b[0;34m:\u001b[0m\u001b[0;34m\u001b[0m\u001b[0;34m\u001b[0m\u001b[0m\n\u001b[0;32m--> 103\u001b[0;31m         \u001b[0;32mraise\u001b[0m \u001b[0mMessageError\u001b[0m\u001b[0;34m(\u001b[0m\u001b[0mreply\u001b[0m\u001b[0;34m[\u001b[0m\u001b[0;34m'error'\u001b[0m\u001b[0;34m]\u001b[0m\u001b[0;34m)\u001b[0m\u001b[0;34m\u001b[0m\u001b[0;34m\u001b[0m\u001b[0m\n\u001b[0m\u001b[1;32m    104\u001b[0m       \u001b[0;32mreturn\u001b[0m \u001b[0mreply\u001b[0m\u001b[0;34m.\u001b[0m\u001b[0mget\u001b[0m\u001b[0;34m(\u001b[0m\u001b[0;34m'data'\u001b[0m\u001b[0;34m,\u001b[0m \u001b[0;32mNone\u001b[0m\u001b[0;34m)\u001b[0m\u001b[0;34m\u001b[0m\u001b[0;34m\u001b[0m\u001b[0m\n\u001b[1;32m    105\u001b[0m \u001b[0;34m\u001b[0m\u001b[0m\n",
            "\u001b[0;31mMessageError\u001b[0m: Error: credential propagation was unsuccessful"
          ]
        }
      ]
    },
    {
      "cell_type": "code",
      "source": [
        "INPUT_DIR = '/content/drive/MyDrive/DL_Project/css-data'\n",
        "WORK_DIR = '/content/'"
      ],
      "metadata": {
        "id": "TMVuEovucGWK"
      },
      "id": "TMVuEovucGWK",
      "execution_count": null,
      "outputs": []
    },
    {
      "cell_type": "markdown",
      "id": "2b019f2a",
      "metadata": {
        "papermill": {
          "duration": 0.014671,
          "end_time": "2023-08-29T14:26:14.830321",
          "exception": false,
          "start_time": "2023-08-29T14:26:14.815650",
          "status": "completed"
        },
        "tags": [],
        "id": "2b019f2a"
      },
      "source": [
        "<a id=\"Data Exploration\"></a>\n",
        "<h2 style=\"padding: 12px 12px; background-color: #F5B041; font-family: Sans-Serif; color:black\">\n",
        "Data Exploration</h2>"
      ]
    },
    {
      "cell_type": "markdown",
      "id": "6dc42d5e",
      "metadata": {
        "papermill": {
          "duration": 0.014547,
          "end_time": "2023-08-29T14:26:14.859589",
          "exception": false,
          "start_time": "2023-08-29T14:26:14.845042",
          "status": "completed"
        },
        "tags": [],
        "id": "6dc42d5e"
      },
      "source": [
        "<h4 style=\"border-bottom: 3px solid #FAD7A0; padding: 12px 12px; font-family: Sans-Serif; color:black\">\n",
        "<b>Create data YAML file</b></h4>"
      ]
    },
    {
      "cell_type": "code",
      "execution_count": null,
      "id": "b7fc65f1",
      "metadata": {
        "execution": {
          "iopub.execute_input": "2023-08-29T14:26:14.891320Z",
          "iopub.status.busy": "2023-08-29T14:26:14.890446Z",
          "iopub.status.idle": "2023-08-29T14:26:14.896011Z",
          "shell.execute_reply": "2023-08-29T14:26:14.895068Z"
        },
        "papermill": {
          "duration": 0.023606,
          "end_time": "2023-08-29T14:26:14.898344",
          "exception": false,
          "start_time": "2023-08-29T14:26:14.874738",
          "status": "completed"
        },
        "tags": [],
        "id": "b7fc65f1"
      },
      "outputs": [],
      "source": [
        "num_classes = 10\n",
        "classes = ['Hardhat', 'Mask', 'NO-Hardhat', 'NO-Mask', 'NO-Safety Vest', 'Person', 'Safety Cone', 'Safety Vest', 'machinery', 'vehicle']"
      ]
    },
    {
      "cell_type": "code",
      "execution_count": null,
      "id": "5aabfb75",
      "metadata": {
        "execution": {
          "iopub.execute_input": "2023-08-29T14:26:14.929457Z",
          "iopub.status.busy": "2023-08-29T14:26:14.928647Z",
          "iopub.status.idle": "2023-08-29T14:26:14.937404Z",
          "shell.execute_reply": "2023-08-29T14:26:14.936445Z"
        },
        "papermill": {
          "duration": 0.026668,
          "end_time": "2023-08-29T14:26:14.939681",
          "exception": false,
          "start_time": "2023-08-29T14:26:14.913013",
          "status": "completed"
        },
        "tags": [],
        "id": "5aabfb75"
      },
      "outputs": [],
      "source": [
        "dict_file = {'train': os.path.join(INPUT_DIR, 'train'),\n",
        "             'val': os.path.join(INPUT_DIR, 'valid'),\n",
        "             'test': os.path.join(INPUT_DIR, 'test'),\n",
        "             'nc': num_classes,\n",
        "             'names': classes\n",
        "            }\n",
        "\n",
        "with open(os.path.join(WORK_DIR, 'data.yaml'), 'w+') as file:\n",
        "    yaml.dump(dict_file, file)"
      ]
    },
    {
      "cell_type": "markdown",
      "id": "8b3fdacd",
      "metadata": {
        "papermill": {
          "duration": 0.014952,
          "end_time": "2023-08-29T14:26:14.969333",
          "exception": false,
          "start_time": "2023-08-29T14:26:14.954381",
          "status": "completed"
        },
        "tags": [],
        "id": "8b3fdacd"
      },
      "source": [
        "<h4 style=\"border-bottom: 3px solid #FAD7A0; padding: 12px 12px; font-family: Sans-Serif; color:black\">\n",
        "<b>Check class balance</b></h4>"
      ]
    },
    {
      "cell_type": "code",
      "execution_count": null,
      "id": "73754996",
      "metadata": {
        "execution": {
          "iopub.execute_input": "2023-08-29T14:26:15.000417Z",
          "iopub.status.busy": "2023-08-29T14:26:15.000108Z",
          "iopub.status.idle": "2023-08-29T14:26:37.499079Z",
          "shell.execute_reply": "2023-08-29T14:26:37.492380Z"
        },
        "papermill": {
          "duration": 22.539384,
          "end_time": "2023-08-29T14:26:37.523536",
          "exception": false,
          "start_time": "2023-08-29T14:26:14.984152",
          "status": "completed"
        },
        "tags": [],
        "id": "73754996"
      },
      "outputs": [],
      "source": [
        "class_idx = {str(i):classes[i] for i in range(num_classes)}\n",
        "\n",
        "class_stat = {}\n",
        "data_len = {}\n",
        "\n",
        "for mode in ['train', 'valid', 'test']:\n",
        "\n",
        "    class_count = {classes[i]:0 for i in range(num_classes)}\n",
        "\n",
        "    path = os.path.join(INPUT_DIR, mode, 'labels')\n",
        "\n",
        "    for file in os.listdir(path):\n",
        "\n",
        "        with open(os.path.join(path, file)) as f:\n",
        "            lines = f.readlines()\n",
        "\n",
        "            for cls in set([line[0] for line in lines]):\n",
        "                class_count[class_idx[cls]] += 1\n",
        "\n",
        "    data_len[mode] = len(os.listdir(path))\n",
        "    class_stat[mode] = class_count"
      ]
    },
    {
      "cell_type": "code",
      "execution_count": null,
      "id": "eb2cd40f",
      "metadata": {
        "execution": {
          "iopub.execute_input": "2023-08-29T14:26:37.669796Z",
          "iopub.status.busy": "2023-08-29T14:26:37.669264Z",
          "iopub.status.idle": "2023-08-29T14:26:38.258129Z",
          "shell.execute_reply": "2023-08-29T14:26:38.257028Z"
        },
        "papermill": {
          "duration": 0.646756,
          "end_time": "2023-08-29T14:26:38.261007",
          "exception": false,
          "start_time": "2023-08-29T14:26:37.614251",
          "status": "completed"
        },
        "tags": [],
        "id": "eb2cd40f"
      },
      "outputs": [],
      "source": [
        "fig, ax = plt.subplots(1,3, figsize=(15, 5), sharey=True)\n",
        "\n",
        "for i, mode in enumerate(['train', 'valid', 'test']):\n",
        "    sns.barplot(pd.DataFrame({mode:class_stat[mode]}).T/data_len[mode]*100, ax=ax[i])\n",
        "    ax[i].set_title(mode)\n",
        "    ax[i].tick_params(rotation=90)\n",
        "    ax[i].set_ylabel('Percenatage of classes')\n",
        "plt.show()"
      ]
    },
    {
      "cell_type": "markdown",
      "id": "310c99da",
      "metadata": {
        "papermill": {
          "duration": 0.015546,
          "end_time": "2023-08-29T14:26:38.292660",
          "exception": false,
          "start_time": "2023-08-29T14:26:38.277114",
          "status": "completed"
        },
        "tags": [],
        "id": "310c99da"
      },
      "source": [
        "- There is imbalance in classes\n",
        "\n",
        "\n",
        "- Overall class distribution between train, validation and test sets are similar."
      ]
    },
    {
      "cell_type": "markdown",
      "id": "746bc605",
      "metadata": {
        "papermill": {
          "duration": 0.015122,
          "end_time": "2023-08-29T14:26:38.323195",
          "exception": false,
          "start_time": "2023-08-29T14:26:38.308073",
          "status": "completed"
        },
        "tags": [],
        "id": "746bc605"
      },
      "source": [
        "<h4 style=\"border-bottom: 3px solid #FAD7A0; padding: 12px 12px; font-family: Sans-Serif; color:black\">\n",
        "<b>Image size</b></h4>"
      ]
    },
    {
      "cell_type": "code",
      "execution_count": null,
      "id": "a6f07bb4",
      "metadata": {
        "execution": {
          "iopub.execute_input": "2023-08-29T14:26:38.355342Z",
          "iopub.status.busy": "2023-08-29T14:26:38.354999Z",
          "iopub.status.idle": "2023-08-29T14:27:05.058973Z",
          "shell.execute_reply": "2023-08-29T14:27:05.057855Z"
        },
        "papermill": {
          "duration": 26.723171,
          "end_time": "2023-08-29T14:27:05.061678",
          "exception": false,
          "start_time": "2023-08-29T14:26:38.338507",
          "status": "completed"
        },
        "tags": [],
        "id": "a6f07bb4"
      },
      "outputs": [],
      "source": [
        "for mode in ['train', 'valid', 'test']:\n",
        "    print(f'\\nImage sizes in {mode} set:\\n')\n",
        "    img_size = 0\n",
        "    for file in glob.glob(os.path.join(INPUT_DIR, mode, 'images', '*')):\n",
        "        image = Image.open(file)\n",
        "        if image.size != img_size:\n",
        "            print(f'\\t{image.size}')\n",
        "            img_size = image.size"
      ]
    },
    {
      "cell_type": "markdown",
      "id": "4725e3c8",
      "metadata": {
        "papermill": {
          "duration": 0.015947,
          "end_time": "2023-08-29T14:27:05.093716",
          "exception": false,
          "start_time": "2023-08-29T14:27:05.077769",
          "status": "completed"
        },
        "tags": [],
        "id": "4725e3c8"
      },
      "source": [
        "- All images have size **640x640**"
      ]
    },
    {
      "cell_type": "markdown",
      "id": "8dd948c0",
      "metadata": {
        "papermill": {
          "duration": 0.015445,
          "end_time": "2023-08-29T14:27:05.124804",
          "exception": false,
          "start_time": "2023-08-29T14:27:05.109359",
          "status": "completed"
        },
        "tags": [],
        "id": "8dd948c0"
      },
      "source": [
        "<h4 style=\"border-bottom: 3px solid #FAD7A0; padding: 12px 12px; font-family: Sans-Serif; color:black\">\n",
        "<b>Dataset size</b></h4>"
      ]
    },
    {
      "cell_type": "code",
      "execution_count": null,
      "id": "b75a0d51",
      "metadata": {
        "execution": {
          "iopub.execute_input": "2023-08-29T14:27:05.158770Z",
          "iopub.status.busy": "2023-08-29T14:27:05.157698Z",
          "iopub.status.idle": "2023-08-29T14:27:05.177985Z",
          "shell.execute_reply": "2023-08-29T14:27:05.176770Z"
        },
        "papermill": {
          "duration": 0.040185,
          "end_time": "2023-08-29T14:27:05.180993",
          "exception": false,
          "start_time": "2023-08-29T14:27:05.140808",
          "status": "completed"
        },
        "tags": [],
        "id": "b75a0d51"
      },
      "outputs": [],
      "source": [
        "for mode in ['train', 'valid', 'test']:\n",
        "\n",
        "    files =  glob.glob(os.path.join(INPUT_DIR, mode, 'images', '*'))\n",
        "\n",
        "    print(f'{mode} set size: {len(files)}\\n')"
      ]
    },
    {
      "cell_type": "markdown",
      "id": "7309ac00",
      "metadata": {
        "papermill": {
          "duration": 0.015542,
          "end_time": "2023-08-29T14:27:05.212368",
          "exception": false,
          "start_time": "2023-08-29T14:27:05.196826",
          "status": "completed"
        },
        "tags": [],
        "id": "7309ac00"
      },
      "source": [
        "<a id=\"train\"></a>\n",
        "\n",
        "<h2 style=\"padding: 12px 12px; background-color: #F5B041; font-family: Sans-Serif; color:black\">\n",
        "Train</h2>"
      ]
    },
    {
      "cell_type": "markdown",
      "id": "891d34a2",
      "metadata": {
        "papermill": {
          "duration": 0.015477,
          "end_time": "2023-08-29T14:27:05.306448",
          "exception": false,
          "start_time": "2023-08-29T14:27:05.290971",
          "status": "completed"
        },
        "tags": [],
        "id": "891d34a2"
      },
      "source": [
        "<h4 style=\"border-bottom: 3px solid #FAD7A0; padding: 12px 12px; font-family: Sans-Serif; color:black\">\n",
        "<b>Load model<b></h4>"
      ]
    },
    {
      "cell_type": "code",
      "execution_count": null,
      "id": "60aa11e9",
      "metadata": {
        "execution": {
          "iopub.execute_input": "2023-08-29T14:27:05.371047Z",
          "iopub.status.busy": "2023-08-29T14:27:05.370117Z",
          "iopub.status.idle": "2023-08-29T14:27:07.164382Z",
          "shell.execute_reply": "2023-08-29T14:27:07.163360Z"
        },
        "papermill": {
          "duration": 1.813508,
          "end_time": "2023-08-29T14:27:07.166867",
          "exception": false,
          "start_time": "2023-08-29T14:27:05.353359",
          "status": "completed"
        },
        "tags": [],
        "id": "60aa11e9"
      },
      "outputs": [],
      "source": [
        "model = YOLO('yolov8n.pt')"
      ]
    },
    {
      "cell_type": "markdown",
      "id": "befd22bc",
      "metadata": {
        "papermill": {
          "duration": 0.01596,
          "end_time": "2023-08-29T14:27:07.199667",
          "exception": false,
          "start_time": "2023-08-29T14:27:07.183707",
          "status": "completed"
        },
        "tags": [],
        "id": "befd22bc"
      },
      "source": [
        "<h4 style=\"border-bottom: 3px solid #FAD7A0; padding: 12px 12px; font-family: Sans-Serif; color:black\">\n",
        "<b>Train</b></h4>"
      ]
    },
    {
      "cell_type": "code",
      "execution_count": null,
      "id": "50cb159a",
      "metadata": {
        "execution": {
          "iopub.execute_input": "2023-08-29T14:27:07.233332Z",
          "iopub.status.busy": "2023-08-29T14:27:07.232990Z",
          "iopub.status.idle": "2023-08-29T15:00:30.845966Z",
          "shell.execute_reply": "2023-08-29T15:00:30.844686Z"
        },
        "papermill": {
          "duration": 2003.633167,
          "end_time": "2023-08-29T15:00:30.848930",
          "exception": false,
          "start_time": "2023-08-29T14:27:07.215763",
          "status": "completed"
        },
        "tags": [],
        "id": "50cb159a"
      },
      "outputs": [],
      "source": [
        "model.train(data=os.path.join(WORK_DIR,'data.yaml'),\n",
        "            task='detect',\n",
        "            imgsz=640,\n",
        "            epochs=20,\n",
        "            batch=32,\n",
        "            mode='train',\n",
        "            name='yolov8n_v1_train')"
      ]
    },
    {
      "cell_type": "markdown",
      "id": "f7c786d4",
      "metadata": {
        "papermill": {
          "duration": 0.424089,
          "end_time": "2023-08-29T15:00:31.697274",
          "exception": false,
          "start_time": "2023-08-29T15:00:31.273185",
          "status": "completed"
        },
        "tags": [],
        "id": "f7c786d4"
      },
      "source": [
        "<a id=\"test\"></a>\n",
        "\n",
        "<h2 style=\"padding: 12px 12px; background-color: #F5B041; font-family: Sans-Serif; color:black\">\n",
        "Test</h2>"
      ]
    },
    {
      "cell_type": "code",
      "execution_count": null,
      "id": "c1d1e659",
      "metadata": {
        "execution": {
          "iopub.execute_input": "2023-08-29T15:00:33.447023Z",
          "iopub.status.busy": "2023-08-29T15:00:33.446601Z",
          "iopub.status.idle": "2023-08-29T15:00:33.499287Z",
          "shell.execute_reply": "2023-08-29T15:00:33.498245Z"
        },
        "papermill": {
          "duration": 0.481194,
          "end_time": "2023-08-29T15:00:33.501762",
          "exception": false,
          "start_time": "2023-08-29T15:00:33.020568",
          "status": "completed"
        },
        "tags": [],
        "id": "c1d1e659"
      },
      "outputs": [],
      "source": [
        "model = YOLO('runs/detect/yolov8n_v1_train/weights/best.pt')"
      ]
    },
    {
      "cell_type": "code",
      "execution_count": null,
      "id": "545461ee",
      "metadata": {
        "execution": {
          "iopub.execute_input": "2023-08-29T15:00:35.198208Z",
          "iopub.status.busy": "2023-08-29T15:00:35.197797Z",
          "iopub.status.idle": "2023-08-29T15:00:38.306183Z",
          "shell.execute_reply": "2023-08-29T15:00:38.304960Z"
        },
        "papermill": {
          "duration": 3.538121,
          "end_time": "2023-08-29T15:00:38.308585",
          "exception": false,
          "start_time": "2023-08-29T15:00:34.770464",
          "status": "completed"
        },
        "tags": [],
        "id": "545461ee"
      },
      "outputs": [],
      "source": [
        "results = model.predict(source=os.path.join(INPUT_DIR, 'test', 'images'), save=True)"
      ]
    },
    {
      "cell_type": "markdown",
      "id": "1a720924",
      "metadata": {
        "papermill": {
          "duration": 0.467325,
          "end_time": "2023-08-29T15:00:39.252473",
          "exception": false,
          "start_time": "2023-08-29T15:00:38.785148",
          "status": "completed"
        },
        "tags": [],
        "id": "1a720924"
      },
      "source": [
        "<h4 style=\"border-bottom: 3px solid #FAD7A0; padding: 12px 12px; font-family: Sans-Serif; color:black\">\n",
        "<b>Show prediction results</b></h4>"
      ]
    },
    {
      "cell_type": "code",
      "execution_count": null,
      "id": "a558d11e",
      "metadata": {
        "execution": {
          "iopub.execute_input": "2023-08-29T15:00:40.166371Z",
          "iopub.status.busy": "2023-08-29T15:00:40.165198Z",
          "iopub.status.idle": "2023-08-29T15:00:43.406955Z",
          "shell.execute_reply": "2023-08-29T15:00:43.405924Z"
        },
        "papermill": {
          "duration": 3.69375,
          "end_time": "2023-08-29T15:00:43.412653",
          "exception": false,
          "start_time": "2023-08-29T15:00:39.718903",
          "status": "completed"
        },
        "tags": [],
        "id": "a558d11e"
      },
      "outputs": [],
      "source": [
        "%matplotlib inline\n",
        "\n",
        "predicitions = glob.glob(os.path.join(WORK_DIR, 'runs/detect/predict', '*'))\n",
        "print(len(predicitions))\n",
        "n = 10\n",
        "\n",
        "for i in range(n):\n",
        "\n",
        "        idx = np.random.randint(0, len(predicitions))\n",
        "        print(idx)\n",
        "        image = Image.open(predicitions[idx])\n",
        "        plt.imshow(image)\n",
        "        plt.grid(False)\n",
        "        plt.show()"
      ]
    },
    {
      "cell_type": "code",
      "execution_count": null,
      "id": "d02d1706",
      "metadata": {
        "execution": {
          "iopub.execute_input": "2023-08-29T15:00:44.415927Z",
          "iopub.status.busy": "2023-08-29T15:00:44.415544Z",
          "iopub.status.idle": "2023-08-29T15:00:45.062245Z",
          "shell.execute_reply": "2023-08-29T15:00:45.061136Z"
        },
        "papermill": {
          "duration": 1.17598,
          "end_time": "2023-08-29T15:00:45.068039",
          "exception": false,
          "start_time": "2023-08-29T15:00:43.892059",
          "status": "completed"
        },
        "tags": [],
        "id": "d02d1706"
      },
      "outputs": [],
      "source": [
        "predicitions = glob.glob(os.path.join(WORK_DIR, 'runs/detect/predict', '*'))\n",
        "print(len(predicitions))\n",
        "n = 2\n",
        "\n",
        "for i in range(n):\n",
        "\n",
        "        idx = np.random.randint(0, len(predicitions))\n",
        "        print(idx)\n",
        "        image = Image.open(predicitions[idx])\n",
        "        plt.imshow(image)\n",
        "        plt.grid(False)\n",
        "        plt.show()"
      ]
    },
    {
      "cell_type": "code",
      "execution_count": null,
      "id": "2123fc10",
      "metadata": {
        "execution": {
          "iopub.execute_input": "2023-08-29T15:00:46.046312Z",
          "iopub.status.busy": "2023-08-29T15:00:46.045317Z",
          "iopub.status.idle": "2023-08-29T15:00:46.396226Z",
          "shell.execute_reply": "2023-08-29T15:00:46.395162Z"
        },
        "papermill": {
          "duration": 0.844105,
          "end_time": "2023-08-29T15:00:46.401462",
          "exception": false,
          "start_time": "2023-08-29T15:00:45.557357",
          "status": "completed"
        },
        "tags": [],
        "id": "2123fc10"
      },
      "outputs": [],
      "source": [
        "predicitions = glob.glob(os.path.join(WORK_DIR, 'runs/detect/predict', '/content/runs/detect/predict/-1969-_png_jpg.rf.41dd58ed3ae83df95fb2417c679d581f.jpg'))\n",
        "print(len(predicitions))\n",
        "n = 1\n",
        "\n",
        "for i in range(n):\n",
        "\n",
        "        idx = 3\n",
        "        print(idx)\n",
        "        image = Image.open(predicitions[0])\n",
        "        plt.imshow(image)\n",
        "        plt.grid(False)\n",
        "        plt.show()"
      ]
    },
    {
      "cell_type": "markdown",
      "source": [
        "**VALIDATION**"
      ],
      "metadata": {
        "id": "tXdLL7oUSh1s"
      },
      "id": "tXdLL7oUSh1s"
    },
    {
      "cell_type": "code",
      "source": [
        "results = model.predict(source=os.path.join(INPUT_DIR, 'valid', 'images'), save=True)"
      ],
      "metadata": {
        "id": "tIvxSy7RvJWJ"
      },
      "id": "tIvxSy7RvJWJ",
      "execution_count": null,
      "outputs": []
    },
    {
      "cell_type": "code",
      "execution_count": null,
      "id": "dafd3c0c",
      "metadata": {
        "papermill": {
          "duration": 0.497859,
          "end_time": "2023-08-29T15:00:47.393354",
          "exception": false,
          "start_time": "2023-08-29T15:00:46.895495",
          "status": "completed"
        },
        "tags": [],
        "id": "dafd3c0c"
      },
      "outputs": [],
      "source": [
        "%matplotlib inline\n",
        "\n",
        "predicitions = glob.glob(os.path.join(WORK_DIR, 'runs/detect/predict', '*'))\n",
        "print(len(predicitions))\n",
        "n = 10\n",
        "\n",
        "for i in range(n):\n",
        "        idx = np.random.randint(0, len(predicitions))\n",
        "        print(idx)\n",
        "        image = Image.open(predicitions[idx])\n",
        "        plt.imshow(image)\n",
        "        plt.grid(False)\n",
        "        plt.show()"
      ]
    },
    {
      "cell_type": "code",
      "source": [
        "from PIL import Image\n",
        "from google.colab.patches import cv2_imshow\n",
        "import cv2\n",
        "import numpy as np\n",
        "\n",
        "confusion_matrix = \"/content/runs/detect/yolov8n_v1_train/confusion_matrix.png\"\n",
        "results_path = '/content/runs/detect/yolov8n_v1_train/results.png'\n",
        "f1_curve = '/content/runs/detect/yolov8n_v1_train/F1_curve.png'\n",
        "precision = '/content/runs/detect/yolov8n_v1_train/PR_curve.png'\n",
        "\n",
        "print('Cnnfusion Matrix')\n",
        "img = Image.open(confusion_matrix)\n",
        "img_np = np.array(img)\n",
        "cv2_imshow(img_np)\n",
        "\n",
        "cv2.waitKey(0)\n",
        "cv2.destroyAllWindows()"
      ],
      "metadata": {
        "id": "oJQltNrdEWnj"
      },
      "id": "oJQltNrdEWnj",
      "execution_count": null,
      "outputs": []
    },
    {
      "cell_type": "code",
      "source": [
        "print('Results')\n",
        "img1 = Image.open(results_path)\n",
        "img_np1 = np.array(img1)\n",
        "cv2_imshow(img_np1)"
      ],
      "metadata": {
        "id": "uvBG_0i7Ewlv"
      },
      "id": "uvBG_0i7Ewlv",
      "execution_count": null,
      "outputs": []
    },
    {
      "cell_type": "code",
      "source": [
        "print('F1 curve')\n",
        "img2 = Image.open(f1_curve)\n",
        "img_np2 = np.array(img2)\n",
        "cv2_imshow(img_np2)"
      ],
      "metadata": {
        "id": "y9GnwXEVI6Rj"
      },
      "id": "y9GnwXEVI6Rj",
      "execution_count": null,
      "outputs": []
    },
    {
      "cell_type": "code",
      "source": [
        "print('Precision Recall curve')\n",
        "img3 = Image.open(precision)\n",
        "img_np3 = np.array(img3)\n",
        "cv2_imshow(img_np3)"
      ],
      "metadata": {
        "id": "aaleZar1JHwi"
      },
      "id": "aaleZar1JHwi",
      "execution_count": null,
      "outputs": []
    },
    {
      "cell_type": "code",
      "source": [
        "results_csv = pd.read_csv('/content/runs/detect/yolov8n_v1_train/results.csv')\n",
        "results_csv"
      ],
      "metadata": {
        "id": "N7KRpCO_Jk4z"
      },
      "id": "N7KRpCO_Jk4z",
      "execution_count": null,
      "outputs": []
    },
    {
      "cell_type": "code",
      "source": [],
      "metadata": {
        "id": "6amUB4bUe0x0"
      },
      "id": "6amUB4bUe0x0",
      "execution_count": null,
      "outputs": []
    }
  ],
  "metadata": {
    "kernelspec": {
      "display_name": "Python 3",
      "name": "python3"
    },
    "language_info": {
      "codemirror_mode": {
        "name": "ipython",
        "version": 3
      },
      "file_extension": ".py",
      "mimetype": "text/x-python",
      "name": "python",
      "nbconvert_exporter": "python",
      "pygments_lexer": "ipython3",
      "version": "3.7.12"
    },
    "papermill": {
      "default_parameters": {},
      "duration": 2555.039077,
      "end_time": "2023-08-29T15:08:14.319169",
      "environment_variables": {},
      "exception": true,
      "input_path": "__notebook__.ipynb",
      "output_path": "__notebook__.ipynb",
      "parameters": {},
      "start_time": "2023-08-29T14:25:39.280092",
      "version": "2.4.0"
    },
    "colab": {
      "provenance": [],
      "gpuType": "T4"
    },
    "accelerator": "GPU"
  },
  "nbformat": 4,
  "nbformat_minor": 5
}